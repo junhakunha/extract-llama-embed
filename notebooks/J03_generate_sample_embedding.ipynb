{
 "cells": [
  {
   "cell_type": "code",
   "execution_count": 1,
   "metadata": {},
   "outputs": [],
   "source": [
    "import torch\n",
    "import h5py\n",
    "import json\n",
    "import numpy as np\n",
    "from tqdm import tqdm\n",
    "\n",
    "import sys\n",
    "import os\n",
    "sys.path.append(os.getcwd() + \"/../\")\n",
    "from src.utils.constants import CHEMBL_DATA_FILE"
   ]
  },
  {
   "cell_type": "code",
   "execution_count": 2,
   "metadata": {},
   "outputs": [],
   "source": [
    "batch_size = 32\n",
    "embeddings_file_path = \"/data2/scratch/junhalee/extract-llama-embed/data/chembl_35/tests/sample_large.h5\""
   ]
  },
  {
   "cell_type": "code",
   "execution_count": 3,
   "metadata": {},
   "outputs": [],
   "source": [
    "def generate_sample_embedding():\n",
    "    # generate a batch_size x 8192 torch tensor with random values between -1 and 1\n",
    "    tensor = torch.randn(batch_size, 8192) * 2 - 1\n",
    "    return tensor\n",
    "\n",
    "embeddings = []\n",
    "for i in range(0, 82507, batch_size):\n",
    "    batch_embeddings = generate_sample_embedding()\n",
    "    if i + batch_size > 82507:\n",
    "        batch_embeddings = batch_embeddings[:82507 - i]\n",
    "    embeddings.append(batch_embeddings)\n",
    "\n",
    "embeddings = torch.cat(embeddings, dim=0)"
   ]
  },
  {
   "cell_type": "code",
   "execution_count": 4,
   "metadata": {},
   "outputs": [
    {
     "name": "stderr",
     "output_type": "stream",
     "text": [
      "100%|██████████| 82507/82507 [01:29<00:00, 918.29it/s] \n"
     ]
    }
   ],
   "source": [
    "def get_chemBL_data(chemBL_file_path):\n",
    "    \"\"\"\n",
    "    Get the abstracts from the ChemBL data file.\n",
    "    \"\"\"\n",
    "    with h5py.File(chemBL_file_path, 'r') as f:\n",
    "        paper_ids = list(f.keys())\n",
    "\n",
    "        abstracts = []\n",
    "        canon_SMILES_lists = []\n",
    "        for paper_name in tqdm(paper_ids):\n",
    "            h5_dataset = f[paper_name]\n",
    "            abstract = h5_dataset['abstract'][()].decode('utf-8')\n",
    "            abstracts.append(abstract)\n",
    "            compounds_list = json.loads(h5_dataset['compounds'][()].decode('utf-8'))\n",
    "            canon_SMILES = [compound['canonical_smiles'] for compound in compounds_list]\n",
    "            canon_SMILES_lists.append(canon_SMILES)\n",
    "\n",
    "    return abstracts, canon_SMILES_lists\n",
    "\n",
    "abstracts, canon_SMILES_lists = get_chemBL_data(CHEMBL_DATA_FILE)"
   ]
  },
  {
   "cell_type": "code",
   "execution_count": 5,
   "metadata": {},
   "outputs": [
    {
     "name": "stdout",
     "output_type": "stream",
     "text": [
      "82507\n",
      "torch.Size([82507, 8192])\n"
     ]
    }
   ],
   "source": [
    "canon_SMILES_lists = canon_SMILES_lists[:embeddings.shape[0]]\n",
    "\n",
    "print(len(canon_SMILES_lists))\n",
    "print(embeddings.shape)\n",
    "\n",
    "json_canon_SMILES = json.dumps(canon_SMILES_lists)"
   ]
  },
  {
   "cell_type": "code",
   "execution_count": 6,
   "metadata": {},
   "outputs": [],
   "source": [
    "with h5py.File(embeddings_file_path, 'w') as f:\n",
    "    f.create_dataset('embeddings', data=embeddings.cpu().numpy())\n",
    "    f.create_dataset('canon_SMILES_json', data=json_canon_SMILES.encode('utf-8'))"
   ]
  },
  {
   "cell_type": "markdown",
   "metadata": {},
   "source": []
  },
  {
   "cell_type": "code",
   "execution_count": 7,
   "metadata": {},
   "outputs": [
    {
     "name": "stdout",
     "output_type": "stream",
     "text": [
      "82507\n",
      "torch.Size([82507, 8192])\n"
     ]
    }
   ],
   "source": [
    "# Try decoding the h5 file\n",
    "with h5py.File(embeddings_file_path, 'r') as f:\n",
    "    read_embeddings = f['embeddings'][()]\n",
    "    read_canon_SMILES_lists = json.loads(f['canon_SMILES_json'][()].decode('utf-8'))\n",
    "\n",
    "print(len(read_canon_SMILES_lists))\n",
    "print(embeddings.shape)"
   ]
  },
  {
   "cell_type": "code",
   "execution_count": null,
   "metadata": {},
   "outputs": [],
   "source": []
  }
 ],
 "metadata": {
  "kernelspec": {
   "display_name": ".venv",
   "language": "python",
   "name": "python3"
  },
  "language_info": {
   "codemirror_mode": {
    "name": "ipython",
    "version": 3
   },
   "file_extension": ".py",
   "mimetype": "text/x-python",
   "name": "python",
   "nbconvert_exporter": "python",
   "pygments_lexer": "ipython3",
   "version": "3.11.11"
  }
 },
 "nbformat": 4,
 "nbformat_minor": 2
}

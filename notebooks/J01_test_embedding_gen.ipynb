{
 "cells": [
  {
   "cell_type": "code",
   "execution_count": null,
   "metadata": {},
   "outputs": [],
   "source": [
    "import torch\n",
    "from transformers import AutoModel, AutoTokenizer\n",
    "from huggingface_hub import notebook_login \n",
    "\n",
    "import sys\n",
    "import os\n",
    "sys.path.append(os.getcwd() + \"/../\")\n",
    "from src.utils.constants import MODELS_DIR, LLAMA_3P3_70B_MODEL_DIR, LLAMA_3P3_70B_MODEL_NAME\n",
    "\n",
    "# Log in to HuggingFace\n",
    "from src.utils.tokens import HF_TOKEN\n",
    "os.environ[\"HF_TOKEN\"] = HF_TOKEN"
   ]
  },
  {
   "cell_type": "code",
   "execution_count": 2,
   "metadata": {},
   "outputs": [],
   "source": [
    "def load_model(model_name, cache_dir):\n",
    "    \"\"\"\n",
    "    Load model with multi-GPU optimized settings\n",
    "    Args:\n",
    "        model_name (str): The name of the model to load.\n",
    "        cache_dir (str): The directory to cache the model.\n",
    "\n",
    "    Returns:\n",
    "        model: The loaded model.\n",
    "        tokenizer: The tokenizer for the model.\n",
    "    \"\"\"\n",
    "    model_config = {\n",
    "        \"cache_dir\": cache_dir,\n",
    "        \"device_map\": \"auto\",          # Auto-split across available GPUs\n",
    "        \"low_cpu_mem_usage\": True,     # Critical for large models\n",
    "        \"torch_dtype\": torch.bfloat16, # Match H100 native format\n",
    "        \"trust_remote_code\": True      # Required for Llama models\n",
    "    }\n",
    "\n",
    "    if os.path.exists(cache_dir):\n",
    "        print(f\"Using cached model in {cache_dir}\")\n",
    "        model = AutoModel.from_pretrained(cache_dir, **model_config)\n",
    "        tokenizer = AutoTokenizer.from_pretrained(cache_dir)\n",
    "    else:\n",
    "        model = AutoModel.from_pretrained(model_name, **model_config)\n",
    "        tokenizer = AutoTokenizer.from_pretrained(model_name)\n",
    "        model.save_pretrained(cache_dir)\n",
    "        tokenizer.save_pretrained(cache_dir)\n",
    "\n",
    "    # Configure tokenizer for padding\n",
    "    tokenizer.pad_token = tokenizer.eos_token\n",
    "    tokenizer.padding_side = \"left\"\n",
    "    \n",
    "    return model, tokenizer\n",
    "\n",
    "\n",
    "def get_embeddings(model, tokenizer, texts):\n",
    "    \"\"\"\n",
    "    Get the embeddings for a given list of strings using the specified model and tokenizer.\n",
    "    Args:\n",
    "        texts (list): A list of strings to encode.\n",
    "        model: The model to use for generating embeddings.\n",
    "        tokenizer: The tokenizer to use for encoding the text.\n",
    "\n",
    "    Returns:\n",
    "        torch.Tensor: The embeddings for the input text.\n",
    "    \"\"\"\n",
    "    # Tokenize the input text\n",
    "    inputs = tokenizer(\n",
    "        texts,\n",
    "        padding=True,\n",
    "        truncation=True,\n",
    "        return_tensors=\"pt\"\n",
    "    )\n",
    "\n",
    "    # Move the inputs to the same device as the model\n",
    "    device = next(model.parameters()).device\n",
    "    inputs = {k: v.to(device) for k, v in inputs.items()}\n",
    "\n",
    "    # Forward pass to get the embeddings\n",
    "    with torch.no_grad():\n",
    "        outputs = model(**inputs)\n",
    "        embeddings = outputs.last_hidden_state\n",
    "\n",
    "    # Get the mean of the last hidden state across the sequence length (do not include padding)\n",
    "    attention_mask = inputs[\"attention_mask\"]\n",
    "    mask_expanded = attention_mask.unsqueeze(-1).expand(embeddings.size()).float()\n",
    "    sum_embeddings = torch.sum(embeddings * mask_expanded, 1)\n",
    "    sum_mask = torch.clamp(mask_expanded.sum(1), min=1e-9)\n",
    "    embeddings = sum_embeddings / sum_mask\n",
    "\n",
    "    return embeddings"
   ]
  },
  {
   "cell_type": "code",
   "execution_count": 3,
   "metadata": {},
   "outputs": [],
   "source": [
    "model_name = LLAMA_3P3_70B_MODEL_NAME\n",
    "cache_dir = LLAMA_3P3_70B_MODEL_DIR"
   ]
  },
  {
   "cell_type": "code",
   "execution_count": null,
   "metadata": {},
   "outputs": [],
   "source": [
    "model, tokenizer = load_model(model_name, cache_dir)"
   ]
  },
  {
   "cell_type": "code",
   "execution_count": null,
   "metadata": {},
   "outputs": [],
   "source": [
    "texts = [\n",
    "    \"Hello, how are you?\", \n",
    "    \"Hello, how are you doing?\", \n",
    "    \"I'm good. Thanks for asking! I hope you are doing well too.\"\n",
    "]\n",
    "embeddings = get_embeddings(model, tokenizer, texts)\n",
    "print(embeddings)"
   ]
  },
  {
   "cell_type": "code",
   "execution_count": null,
   "metadata": {},
   "outputs": [],
   "source": [
    "embeddings.shape\n"
   ]
  },
  {
   "cell_type": "code",
   "execution_count": null,
   "metadata": {},
   "outputs": [],
   "source": []
  }
 ],
 "metadata": {
  "kernelspec": {
   "display_name": ".venv",
   "language": "python",
   "name": "python3"
  },
  "language_info": {
   "codemirror_mode": {
    "name": "ipython",
    "version": 3
   },
   "file_extension": ".py",
   "mimetype": "text/x-python",
   "name": "python",
   "nbconvert_exporter": "python",
   "pygments_lexer": "ipython3",
   "version": "3.11.11"
  }
 },
 "nbformat": 4,
 "nbformat_minor": 2
}
